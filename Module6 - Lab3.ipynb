{
 "cells": [
  {
   "cell_type": "markdown",
   "metadata": {},
   "source": [
    "# DAT210x - Programming with Python for DS"
   ]
  },
  {
   "cell_type": "markdown",
   "metadata": {},
   "source": [
    "## Module6- Lab3"
   ]
  },
  {
   "cell_type": "markdown",
   "metadata": {},
   "source": [
    "This code is intentionally missing! Read the directions on the course lab page!"
   ]
  },
  {
   "cell_type": "code",
   "execution_count": 21,
   "metadata": {},
   "outputs": [
    {
     "name": "stdout",
     "output_type": "stream",
     "text": [
      "0.813559322034\n",
      "0.796610169492\n",
      "0.05\n",
      "0.001\n",
      "0.813559322034\n",
      "0.1\n",
      "0.007\n",
      "0.830508474576\n",
      "0.1\n",
      "0.008\n",
      "0.847457627119\n",
      "0.1\n",
      "0.01\n",
      "0.864406779661\n",
      "0.15\n",
      "0.008\n",
      "0.881355932203\n",
      "0.45\n",
      "0.009\n",
      "0.898305084746\n",
      "0.45\n",
      "0.011\n",
      "0.915254237288\n",
      "0.5\n",
      "0.014\n",
      "0.932203389831\n",
      "0.65\n",
      "0.036\n",
      "0.949152542373\n",
      "1.05\n",
      "0.032\n",
      "0.966101694915\n",
      "1.7\n",
      "0.06\n"
     ]
    }
   ],
   "source": [
    "import pandas as pd\n",
    "X = pd.read_csv('Datasets/parkinsons.data')\n",
    "X.drop(['name'], axis=1, inplace=True)\n",
    "y = X['status']\n",
    "X.drop(['status'], axis=1, inplace=True)\n",
    "\n",
    "from sklearn.model_selection import train_test_split\n",
    "X_train, X_test, y_train, y_test = train_test_split(X, y, test_size = 0.3, random_state = 7)\n",
    "\n",
    "from sklearn.svm import SVC\n",
    "model = SVC()\n",
    "\n",
    "model.fit(X_train, y_train)\n",
    "score = model.score(X_test, y_test)\n",
    "print(score)\n",
    "\n",
    "\n",
    "\n",
    "from sklearn import preprocessing\n",
    "T = preprocessing.scale(X)\n",
    "\n",
    "# from sklearn.decomposition import PCA\n",
    "# pca = PCA(n_components = 14)\n",
    "# X_pca = pca.fit_transform(T)\n",
    "\n",
    "from sklearn.manifold import Isomap\n",
    "iso = Isomap(n_neighbors = 2, n_components = 4)\n",
    "X_iso = iso.fit_transform(T)\n",
    "\n",
    "\n",
    "from sklearn.model_selection import train_test_split\n",
    "X_train, X_test, y_train, y_test = train_test_split(X_iso, y, test_size = 0.3, random_state = 7)\n",
    "\n",
    "\n",
    "best_score = 0\n",
    "\n",
    "import numpy as np\n",
    "for c in range(4,14):\n",
    "    for a in np.arange(start = 0.05, stop = 2.05, step = 0.05):\n",
    "        for b in np.arange(start = 0.001, stop = 0.101, step = 0.001):\n",
    "            \n",
    "            \n",
    "            model1 = SVC(C=a, gamma=b)\n",
    "            model1.fit(X_train, y_train)\n",
    "            current_score = model1.score(X_test, y_test)\n",
    "            if best_score < current_score:\n",
    "                best_score = current_score\n",
    "                print(best_score)\n",
    "                print(model1.C)\n",
    "                print(model1.gamma)\n"
   ]
  }
 ],
 "metadata": {
  "anaconda-cloud": {},
  "kernelspec": {
   "display_name": "Python 3",
   "language": "python",
   "name": "python3"
  },
  "language_info": {
   "codemirror_mode": {
    "name": "ipython",
    "version": 3
   },
   "file_extension": ".py",
   "mimetype": "text/x-python",
   "name": "python",
   "nbconvert_exporter": "python",
   "pygments_lexer": "ipython3",
   "version": "3.6.1"
  },
  "toc": {
   "colors": {
    "hover_highlight": "#DAA520",
    "running_highlight": "#FF0000",
    "selected_highlight": "#FFD700"
   },
   "moveMenuLeft": true,
   "nav_menu": {
    "height": "58px",
    "width": "252px"
   },
   "navigate_menu": true,
   "number_sections": true,
   "sideBar": true,
   "threshold": 4,
   "toc_cell": false,
   "toc_section_display": "block",
   "toc_window_display": false,
   "widenNotebook": false
  }
 },
 "nbformat": 4,
 "nbformat_minor": 2
}
