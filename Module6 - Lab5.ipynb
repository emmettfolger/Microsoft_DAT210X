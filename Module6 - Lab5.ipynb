{
 "cells": [
  {
   "cell_type": "markdown",
   "metadata": {},
   "source": [
    "# DAT210x - Programming with Python for DS"
   ]
  },
  {
   "cell_type": "markdown",
   "metadata": {},
   "source": [
    "## Module6- Lab5"
   ]
  },
  {
   "cell_type": "code",
   "execution_count": 30,
   "metadata": {},
   "outputs": [
    {
     "name": "stdout",
     "output_type": "stream",
     "text": [
      "High-Dimensionality Score:  100.0\n"
     ]
    }
   ],
   "source": [
    "import pandas as pd"
   ]
  },
  {
   "cell_type": "markdown",
   "metadata": {
    "collapsed": true
   },
   "source": [
    "Useful information about the dataset used in this assignment can be [found here](https://archive.ics.uci.edu/ml/machine-learning-databases/mushroom/agaricus-lepiota.names)."
   ]
  },
  {
   "cell_type": "markdown",
   "metadata": {},
   "source": [
    "Load up the mushroom dataset into dataframe `X` and verify you did it properly, and that you have not included any features that clearly shouldn't be part of the dataset.\n",
    "\n",
    "You should not have any doubled indices. You can check out information about the headers present in the dataset using the link we provided above. Also make sure you've properly captured any NA values."
   ]
  },
  {
   "cell_type": "code",
   "execution_count": 23,
   "metadata": {},
   "outputs": [
    {
     "name": "stdout",
     "output_type": "stream",
     "text": [
      "     classes cap-shape cap-surface cap-color bruises? odor gill-attachment  \\\n",
      "0          p         x           s         n        t    p               f   \n",
      "1          e         x           s         y        t    a               f   \n",
      "2          e         b           s         w        t    l               f   \n",
      "3          p         x           y         w        t    p               f   \n",
      "4          e         x           s         g        f    n               f   \n",
      "5          e         x           y         y        t    a               f   \n",
      "6          e         b           s         w        t    a               f   \n",
      "7          e         b           y         w        t    l               f   \n",
      "8          p         x           y         w        t    p               f   \n",
      "9          e         b           s         y        t    a               f   \n",
      "10         e         x           y         y        t    l               f   \n",
      "11         e         x           y         y        t    a               f   \n",
      "12         e         b           s         y        t    a               f   \n",
      "13         p         x           y         w        t    p               f   \n",
      "14         e         x           f         n        f    n               f   \n",
      "15         e         s           f         g        f    n               f   \n",
      "16         e         f           f         w        f    n               f   \n",
      "17         p         x           s         n        t    p               f   \n",
      "18         p         x           y         w        t    p               f   \n",
      "19         p         x           s         n        t    p               f   \n",
      "20         e         b           s         y        t    a               f   \n",
      "21         p         x           y         n        t    p               f   \n",
      "22         e         b           y         y        t    l               f   \n",
      "23         e         b           y         w        t    a               f   \n",
      "24         e         b           s         w        t    l               f   \n",
      "25         p         f           s         w        t    p               f   \n",
      "26         e         x           y         y        t    a               f   \n",
      "27         e         x           y         w        t    l               f   \n",
      "28         e         f           f         n        f    n               f   \n",
      "29         e         x           s         y        t    a               f   \n",
      "...      ...       ...         ...       ...      ...  ...             ...   \n",
      "8094       e         b           s         g        f    n               f   \n",
      "8095       p         x           y         c        f    m               f   \n",
      "8096       e         k           f         w        f    n               f   \n",
      "8097       p         k           y         n        f    s               f   \n",
      "8098       p         k           s         e        f    y               f   \n",
      "8099       e         k           f         w        f    n               f   \n",
      "8100       e         f           s         n        f    n               a   \n",
      "8101       p         k           s         e        f    s               f   \n",
      "8102       e         x           s         n        f    n               a   \n",
      "8103       e         k           s         n        f    n               a   \n",
      "8104       e         k           s         n        f    n               a   \n",
      "8105       e         k           s         n        f    n               a   \n",
      "8106       e         k           s         n        f    n               a   \n",
      "8107       e         x           s         n        f    n               a   \n",
      "8108       p         k           y         e        f    y               f   \n",
      "8109       e         b           s         w        f    n               f   \n",
      "8110       e         x           s         n        f    n               a   \n",
      "8111       e         k           s         w        f    n               f   \n",
      "8112       e         k           s         n        f    n               a   \n",
      "8113       p         k           y         e        f    y               f   \n",
      "8114       p         f           y         c        f    m               a   \n",
      "8115       e         x           s         n        f    n               a   \n",
      "8116       p         k           y         n        f    s               f   \n",
      "8117       p         k           s         e        f    y               f   \n",
      "8118       p         k           y         n        f    f               f   \n",
      "8119       e         k           s         n        f    n               a   \n",
      "8120       e         x           s         n        f    n               a   \n",
      "8121       e         f           s         n        f    n               a   \n",
      "8122       p         k           y         n        f    y               f   \n",
      "8123       e         x           s         n        f    n               a   \n",
      "\n",
      "     gill-spacing gill-size gill-color   ...   stalk-surface-below-ring  \\\n",
      "0               c         n          k   ...                          s   \n",
      "1               c         b          k   ...                          s   \n",
      "2               c         b          n   ...                          s   \n",
      "3               c         n          n   ...                          s   \n",
      "4               w         b          k   ...                          s   \n",
      "5               c         b          n   ...                          s   \n",
      "6               c         b          g   ...                          s   \n",
      "7               c         b          n   ...                          s   \n",
      "8               c         n          p   ...                          s   \n",
      "9               c         b          g   ...                          s   \n",
      "10              c         b          g   ...                          s   \n",
      "11              c         b          n   ...                          s   \n",
      "12              c         b          w   ...                          s   \n",
      "13              c         n          k   ...                          s   \n",
      "14              w         b          n   ...                          f   \n",
      "15              c         n          k   ...                          s   \n",
      "16              w         b          k   ...                          s   \n",
      "17              c         n          n   ...                          s   \n",
      "18              c         n          n   ...                          s   \n",
      "19              c         n          k   ...                          s   \n",
      "20              c         b          k   ...                          s   \n",
      "21              c         n          n   ...                          s   \n",
      "22              c         b          k   ...                          s   \n",
      "23              c         b          w   ...                          s   \n",
      "24              c         b          g   ...                          s   \n",
      "25              c         n          n   ...                          s   \n",
      "26              c         b          n   ...                          s   \n",
      "27              c         b          w   ...                          s   \n",
      "28              c         n          k   ...                          s   \n",
      "29              w         n          n   ...                          s   \n",
      "...           ...       ...        ...   ...                        ...   \n",
      "8094            w         b          g   ...                          s   \n",
      "8095            c         b          y   ...                          y   \n",
      "8096            w         b          w   ...                          s   \n",
      "8097            c         n          b   ...                          k   \n",
      "8098            c         n          b   ...                          k   \n",
      "8099            w         b          w   ...                          k   \n",
      "8100            c         b          o   ...                          s   \n",
      "8101            c         n          b   ...                          s   \n",
      "8102            c         b          y   ...                          s   \n",
      "8103            c         b          y   ...                          s   \n",
      "8104            c         b          y   ...                          s   \n",
      "8105            c         b          y   ...                          s   \n",
      "8106            c         b          o   ...                          s   \n",
      "8107            c         b          y   ...                          s   \n",
      "8108            c         n          b   ...                          s   \n",
      "8109            w         b          w   ...                          s   \n",
      "8110            c         b          o   ...                          s   \n",
      "8111            w         b          p   ...                          s   \n",
      "8112            c         b          o   ...                          s   \n",
      "8113            c         n          b   ...                          k   \n",
      "8114            c         b          y   ...                          y   \n",
      "8115            c         b          y   ...                          s   \n",
      "8116            c         n          b   ...                          k   \n",
      "8117            c         n          b   ...                          s   \n",
      "8118            c         n          b   ...                          s   \n",
      "8119            c         b          y   ...                          s   \n",
      "8120            c         b          y   ...                          s   \n",
      "8121            c         b          n   ...                          s   \n",
      "8122            c         n          b   ...                          k   \n",
      "8123            c         b          y   ...                          s   \n",
      "\n",
      "     stalk-color-above-ring stalk-color-below-ring veil-type veil-color  \\\n",
      "0                         w                      w         p          w   \n",
      "1                         w                      w         p          w   \n",
      "2                         w                      w         p          w   \n",
      "3                         w                      w         p          w   \n",
      "4                         w                      w         p          w   \n",
      "5                         w                      w         p          w   \n",
      "6                         w                      w         p          w   \n",
      "7                         w                      w         p          w   \n",
      "8                         w                      w         p          w   \n",
      "9                         w                      w         p          w   \n",
      "10                        w                      w         p          w   \n",
      "11                        w                      w         p          w   \n",
      "12                        w                      w         p          w   \n",
      "13                        w                      w         p          w   \n",
      "14                        w                      w         p          w   \n",
      "15                        w                      w         p          w   \n",
      "16                        w                      w         p          w   \n",
      "17                        w                      w         p          w   \n",
      "18                        w                      w         p          w   \n",
      "19                        w                      w         p          w   \n",
      "20                        w                      w         p          w   \n",
      "21                        w                      w         p          w   \n",
      "22                        w                      w         p          w   \n",
      "23                        w                      w         p          w   \n",
      "24                        w                      w         p          w   \n",
      "25                        w                      w         p          w   \n",
      "26                        w                      w         p          w   \n",
      "27                        w                      w         p          w   \n",
      "28                        w                      w         p          w   \n",
      "29                        w                      w         p          w   \n",
      "...                     ...                    ...       ...        ...   \n",
      "8094                      w                      w         p          w   \n",
      "8095                      c                      c         p          w   \n",
      "8096                      w                      w         p          w   \n",
      "8097                      p                      p         p          w   \n",
      "8098                      w                      p         p          w   \n",
      "8099                      w                      w         p          w   \n",
      "8100                      o                      o         p          n   \n",
      "8101                      p                      w         p          w   \n",
      "8102                      o                      o         p          n   \n",
      "8103                      o                      o         p          n   \n",
      "8104                      o                      o         p          o   \n",
      "8105                      o                      o         p          n   \n",
      "8106                      o                      o         p          o   \n",
      "8107                      o                      o         p          o   \n",
      "8108                      p                      w         p          w   \n",
      "8109                      w                      w         p          w   \n",
      "8110                      o                      o         p          o   \n",
      "8111                      w                      w         p          w   \n",
      "8112                      o                      o         p          n   \n",
      "8113                      p                      p         p          w   \n",
      "8114                      c                      c         p          w   \n",
      "8115                      o                      o         p          o   \n",
      "8116                      p                      w         p          w   \n",
      "8117                      p                      w         p          w   \n",
      "8118                      p                      w         p          w   \n",
      "8119                      o                      o         p          o   \n",
      "8120                      o                      o         p          n   \n",
      "8121                      o                      o         p          o   \n",
      "8122                      w                      w         p          w   \n",
      "8123                      o                      o         p          o   \n",
      "\n",
      "     ring-number ring-type spore-print-color population habitat  \n",
      "0              o         p                 k          s       u  \n",
      "1              o         p                 n          n       g  \n",
      "2              o         p                 n          n       m  \n",
      "3              o         p                 k          s       u  \n",
      "4              o         e                 n          a       g  \n",
      "5              o         p                 k          n       g  \n",
      "6              o         p                 k          n       m  \n",
      "7              o         p                 n          s       m  \n",
      "8              o         p                 k          v       g  \n",
      "9              o         p                 k          s       m  \n",
      "10             o         p                 n          n       g  \n",
      "11             o         p                 k          s       m  \n",
      "12             o         p                 n          s       g  \n",
      "13             o         p                 n          v       u  \n",
      "14             o         e                 k          a       g  \n",
      "15             o         p                 n          y       u  \n",
      "16             o         e                 n          a       g  \n",
      "17             o         p                 k          s       g  \n",
      "18             o         p                 n          s       u  \n",
      "19             o         p                 n          s       u  \n",
      "20             o         p                 n          s       m  \n",
      "21             o         p                 n          v       g  \n",
      "22             o         p                 n          s       m  \n",
      "23             o         p                 n          n       m  \n",
      "24             o         p                 k          s       m  \n",
      "25             o         p                 n          v       g  \n",
      "26             o         p                 n          n       m  \n",
      "27             o         p                 n          n       m  \n",
      "28             o         p                 k          y       u  \n",
      "29             o         p                 n          v       d  \n",
      "...          ...       ...               ...        ...     ...  \n",
      "8094           t         p                 w          n       g  \n",
      "8095           n         n                 w          c       d  \n",
      "8096           t         p                 w          n       g  \n",
      "8097           o         e                 w          v       l  \n",
      "8098           o         e                 w          v       d  \n",
      "8099           t         p                 w          s       g  \n",
      "8100           o         p                 b          v       l  \n",
      "8101           o         e                 w          v       p  \n",
      "8102           o         p                 n          c       l  \n",
      "8103           o         p                 o          c       l  \n",
      "8104           o         p                 n          v       l  \n",
      "8105           o         p                 y          v       l  \n",
      "8106           o         p                 n          v       l  \n",
      "8107           o         p                 n          c       l  \n",
      "8108           o         e                 w          v       l  \n",
      "8109           t         p                 w          n       g  \n",
      "8110           o         p                 n          v       l  \n",
      "8111           t         p                 w          n       g  \n",
      "8112           o         p                 b          v       l  \n",
      "8113           o         e                 w          v       d  \n",
      "8114           n         n                 w          c       d  \n",
      "8115           o         p                 o          v       l  \n",
      "8116           o         e                 w          v       l  \n",
      "8117           o         e                 w          v       d  \n",
      "8118           o         e                 w          v       d  \n",
      "8119           o         p                 b          c       l  \n",
      "8120           o         p                 b          v       l  \n",
      "8121           o         p                 b          c       l  \n",
      "8122           o         e                 w          v       l  \n",
      "8123           o         p                 o          c       l  \n",
      "\n",
      "[8124 rows x 23 columns]\n"
     ]
    }
   ],
   "source": [
    "# .. your code here ..\n",
    "names = ['classes', 'cap-shape', 'cap-surface', 'cap-color', 'bruises?', 'odor', 'gill-attachment', 'gill-spacing', 'gill-size', 'gill-color', 'stalk-shape', 'stalk-root', 'stalk-surface-above-ring', 'stalk-surface-below-ring', 'stalk-color-above-ring', 'stalk-color-below-ring', 'veil-type', 'veil-color', 'ring-number', 'ring-type', 'spore-print-color', 'population', 'habitat']\n",
    "X = pd.read_csv('Datasets/agaricus-lepiota.data', names=names)\n",
    "print(X)"
   ]
  },
  {
   "cell_type": "code",
   "execution_count": 24,
   "metadata": {},
   "outputs": [
    {
     "data": {
      "text/html": [
       "<div>\n",
       "<style>\n",
       "    .dataframe thead tr:only-child th {\n",
       "        text-align: right;\n",
       "    }\n",
       "\n",
       "    .dataframe thead th {\n",
       "        text-align: left;\n",
       "    }\n",
       "\n",
       "    .dataframe tbody tr th {\n",
       "        vertical-align: top;\n",
       "    }\n",
       "</style>\n",
       "<table border=\"1\" class=\"dataframe\">\n",
       "  <thead>\n",
       "    <tr style=\"text-align: right;\">\n",
       "      <th></th>\n",
       "      <th>classes</th>\n",
       "      <th>cap-shape</th>\n",
       "      <th>cap-surface</th>\n",
       "      <th>cap-color</th>\n",
       "      <th>bruises?</th>\n",
       "      <th>odor</th>\n",
       "      <th>gill-attachment</th>\n",
       "      <th>gill-spacing</th>\n",
       "      <th>gill-size</th>\n",
       "      <th>gill-color</th>\n",
       "      <th>...</th>\n",
       "      <th>stalk-surface-below-ring</th>\n",
       "      <th>stalk-color-above-ring</th>\n",
       "      <th>stalk-color-below-ring</th>\n",
       "      <th>veil-type</th>\n",
       "      <th>veil-color</th>\n",
       "      <th>ring-number</th>\n",
       "      <th>ring-type</th>\n",
       "      <th>spore-print-color</th>\n",
       "      <th>population</th>\n",
       "      <th>habitat</th>\n",
       "    </tr>\n",
       "  </thead>\n",
       "  <tbody>\n",
       "  </tbody>\n",
       "</table>\n",
       "<p>0 rows × 23 columns</p>\n",
       "</div>"
      ],
      "text/plain": [
       "Empty DataFrame\n",
       "Columns: [classes, cap-shape, cap-surface, cap-color, bruises?, odor, gill-attachment, gill-spacing, gill-size, gill-color, stalk-shape, stalk-root, stalk-surface-above-ring, stalk-surface-below-ring, stalk-color-above-ring, stalk-color-below-ring, veil-type, veil-color, ring-number, ring-type, spore-print-color, population, habitat]\n",
       "Index: []\n",
       "\n",
       "[0 rows x 23 columns]"
      ]
     },
     "execution_count": 24,
     "metadata": {},
     "output_type": "execute_result"
    }
   ],
   "source": [
    "# An easy way to show which rows have nans in them:\n",
    "X[pd.isnull(X).any(axis=1)]"
   ]
  },
  {
   "cell_type": "markdown",
   "metadata": {},
   "source": [
    "For this simple assignment, just drop any row with a nan in it, and then print out your dataset's shape:"
   ]
  },
  {
   "cell_type": "code",
   "execution_count": 25,
   "metadata": {},
   "outputs": [],
   "source": [
    "X.dropna(axis=0, inplace=True)"
   ]
  },
  {
   "cell_type": "markdown",
   "metadata": {},
   "source": [
    "Copy the labels out of the dataframe into variable `y`, then remove them from `X`.\n",
    "\n",
    "Encode the labels, using the `.map()` trick we presented you in Module 5, using `canadian:0`, `kama:1`, and `rosa:2`."
   ]
  },
  {
   "cell_type": "code",
   "execution_count": 26,
   "metadata": {},
   "outputs": [],
   "source": [
    "y = X.classes\n",
    "X.drop('classes', axis = 1, inplace = True)\n",
    "y = y.map({'e': 0, 'p': 1})"
   ]
  },
  {
   "cell_type": "markdown",
   "metadata": {},
   "source": [
    "Encode the entire dataframe using dummies:"
   ]
  },
  {
   "cell_type": "markdown",
   "metadata": {
    "collapsed": true
   },
   "source": [
    "Split your data into `test` and `train` sets. Your `test` size should be 30% with `random_state` 7.\n",
    "\n",
    "Please use variable names: `X_train`, `X_test`, `y_train`, and `y_test`:"
   ]
  },
  {
   "cell_type": "code",
   "execution_count": 27,
   "metadata": {},
   "outputs": [
    {
     "name": "stdout",
     "output_type": "stream",
     "text": [
      "   cap-shape_b  cap-shape_c  cap-shape_f  cap-shape_k  cap-shape_s  \\\n",
      "0            0            0            0            0            0   \n",
      "1            0            0            0            0            0   \n",
      "2            1            0            0            0            0   \n",
      "3            0            0            0            0            0   \n",
      "4            0            0            0            0            0   \n",
      "5            0            0            0            0            0   \n",
      "\n",
      "   cap-shape_x  cap-surface_f  cap-surface_g  cap-surface_s  cap-surface_y  \\\n",
      "0            1              0              0              1              0   \n",
      "1            1              0              0              1              0   \n",
      "2            0              0              0              1              0   \n",
      "3            1              0              0              0              1   \n",
      "4            1              0              0              1              0   \n",
      "5            1              0              0              0              1   \n",
      "\n",
      "     ...      population_s  population_v  population_y  habitat_d  habitat_g  \\\n",
      "0    ...                 1             0             0          0          0   \n",
      "1    ...                 0             0             0          0          1   \n",
      "2    ...                 0             0             0          0          0   \n",
      "3    ...                 1             0             0          0          0   \n",
      "4    ...                 0             0             0          0          1   \n",
      "5    ...                 0             0             0          0          1   \n",
      "\n",
      "   habitat_l  habitat_m  habitat_p  habitat_u  habitat_w  \n",
      "0          0          0          0          1          0  \n",
      "1          0          0          0          0          0  \n",
      "2          0          1          0          0          0  \n",
      "3          0          0          0          1          0  \n",
      "4          0          0          0          0          0  \n",
      "5          0          0          0          0          0  \n",
      "\n",
      "[6 rows x 117 columns]\n"
     ]
    }
   ],
   "source": [
    "X = pd.get_dummies(X, columns = ['cap-shape', 'cap-surface', 'cap-color', 'bruises?', 'odor', 'gill-attachment', 'gill-spacing', 'gill-size', 'gill-color', 'stalk-shape', 'stalk-root', 'stalk-surface-above-ring', 'stalk-surface-below-ring', 'stalk-color-above-ring', 'stalk-color-below-ring', 'veil-type', 'veil-color', 'ring-number', 'ring-type', 'spore-print-color', 'population', 'habitat'])\n",
    "print(X.head(6))\n",
    "from sklearn.cross_validation import train_test_split\n",
    "X_train, X_test, y_train, y_test = train_test_split(X, y, test_size = .3, random_state = 7)"
   ]
  },
  {
   "cell_type": "markdown",
   "metadata": {
    "collapsed": true
   },
   "source": [
    "Create an DT classifier. No need to set any parameters:"
   ]
  },
  {
   "cell_type": "code",
   "execution_count": 28,
   "metadata": {},
   "outputs": [
    {
     "name": "stdout",
     "output_type": "stream",
     "text": [
      "High-Dimensionality Score:  100.0\n"
     ]
    }
   ],
   "source": [
    "from sklearn import tree\n",
    "model = tree.DecisionTreeClassifier()\n",
    "model.fit(X_train, y_train)\n",
    "score = model.score(X_test, y_test)\n",
    "print(\"High-Dimensionality Score: \", round((score*100), 3))"
   ]
  },
  {
   "cell_type": "markdown",
   "metadata": {},
   "source": [
    "Train the classifier on the `training` data and labels; then, score the classifier on the `testing` data and labels:"
   ]
  },
  {
   "cell_type": "markdown",
   "metadata": {},
   "source": [
    "Use the code on the course's SciKit-Learn page to output a .DOT file, then render the .DOT to .PNGs.\n",
    "\n",
    "You will need graphviz installed to do this. On macOS, you can `brew install graphviz`. On Windows 10, graphviz installs via a .msi installer that you can download from the graphviz website. Also, a graph editor, gvedit.exe can be used to view the tree directly from the exported tree.dot file without having to issue a call. On other systems, use analogous commands.\n",
    "\n",
    "If you encounter issues installing graphviz or don't have the rights to, you can always visualize your .dot file on the website: http://webgraphviz.com/."
   ]
  },
  {
   "cell_type": "code",
   "execution_count": 18,
   "metadata": {},
   "outputs": [],
   "source": [
    "tree.export_graphviz(model.tree_, out_file = 'tree.dot', feature_names = X.columns)"
   ]
  }
 ],
 "metadata": {
  "anaconda-cloud": {},
  "kernelspec": {
   "display_name": "Python 3",
   "language": "python",
   "name": "python3"
  },
  "language_info": {
   "codemirror_mode": {
    "name": "ipython",
    "version": 3
   },
   "file_extension": ".py",
   "mimetype": "text/x-python",
   "name": "python",
   "nbconvert_exporter": "python",
   "pygments_lexer": "ipython3",
   "version": "3.6.1"
  },
  "toc": {
   "colors": {
    "hover_highlight": "#DAA520",
    "running_highlight": "#FF0000",
    "selected_highlight": "#FFD700"
   },
   "moveMenuLeft": true,
   "nav_menu": {
    "height": "58px",
    "width": "252px"
   },
   "navigate_menu": true,
   "number_sections": true,
   "sideBar": true,
   "threshold": 4,
   "toc_cell": false,
   "toc_section_display": "block",
   "toc_window_display": false,
   "widenNotebook": false
  }
 },
 "nbformat": 4,
 "nbformat_minor": 2
}
