{
 "cells": [
  {
   "cell_type": "markdown",
   "metadata": {},
   "source": [
    "# DAT210x - Programming with Python for DS"
   ]
  },
  {
   "cell_type": "markdown",
   "metadata": {},
   "source": [
    "## Module6- Lab1"
   ]
  },
  {
   "cell_type": "code",
   "execution_count": 1,
   "metadata": {},
   "outputs": [],
   "source": [
    "import matplotlib as mpl\n",
    "import matplotlib.pyplot as plt\n",
    "\n",
    "import pandas as pd\n",
    "import numpy as np \n",
    "import time"
   ]
  },
  {
   "cell_type": "markdown",
   "metadata": {
    "collapsed": true
   },
   "source": [
    "Feel free to adjust and experiment with these parameters after you have completed the lab:"
   ]
  },
  {
   "cell_type": "code",
   "execution_count": 2,
   "metadata": {},
   "outputs": [],
   "source": [
    "C = 1\n",
    "kernel = 'linear'"
   ]
  },
  {
   "cell_type": "code",
   "execution_count": 37,
   "metadata": {},
   "outputs": [],
   "source": [
    "# TODO: Change to 200000 once you get to Question#2\n",
    "iterations = 200000\n",
    "\n",
    "# You can set this to false if you want to draw the full square matrix:\n",
    "FAST_DRAW = True"
   ]
  },
  {
   "cell_type": "markdown",
   "metadata": {},
   "source": [
    "### Convenience Functions"
   ]
  },
  {
   "cell_type": "code",
   "execution_count": 33,
   "metadata": {},
   "outputs": [],
   "source": [
    "def drawPlots(model, X_train, X_test, y_train, y_test, wintitle='Figure 1'):\n",
    "    # You can use this to break any higher-dimensional space down,\n",
    "    # And view cross sections of it.\n",
    "\n",
    "    # If this line throws an error, use plt.style.use('ggplot') instead\n",
    "    mpl.style.use('ggplot') # Look Pretty\n",
    "\n",
    "    padding = 3\n",
    "    resolution = 0.5\n",
    "    max_2d_score = 0\n",
    "\n",
    "    y_colors = ['#ff0000', '#00ff00', '#0000ff']\n",
    "    my_cmap  = mpl.colors.ListedColormap(['#ffaaaa', '#aaffaa', '#aaaaff'])\n",
    "    colors   = [y_colors[i] for i in y_train]\n",
    "    num_columns = len(X_train.columns)\n",
    "\n",
    "    fig = plt.figure()\n",
    "    fig.canvas.set_window_title(wintitle)\n",
    "    #fig.set_tight_layout(True)\n",
    "    \n",
    "    cnt = 0\n",
    "    for col in range(num_columns):\n",
    "        for row in range(num_columns):\n",
    "            \n",
    "            # Easy out\n",
    "            if FAST_DRAW and col > row:\n",
    "                cnt += 1\n",
    "                continue\n",
    "\n",
    "            ax = plt.subplot(num_columns, num_columns, cnt + 1)\n",
    "            plt.xticks(())\n",
    "            plt.yticks(())\n",
    "\n",
    "            # Intersection:\n",
    "            if col == row:\n",
    "                plt.text(0.5, 0.5, X_train.columns[row], verticalalignment='center', horizontalalignment='center', fontsize=12)\n",
    "                cnt += 1\n",
    "                continue\n",
    "\n",
    "\n",
    "            # Only select two features to display, then train the model\n",
    "            X_train_bag = X_train.ix[:, [row,col]]\n",
    "            X_test_bag = X_test.ix[:, [row,col]]\n",
    "            model.fit(X_train_bag, y_train)\n",
    "\n",
    "            # Create a mesh to plot in\n",
    "            x_min, x_max = X_train_bag.ix[:, 0].min() - padding, X_train_bag.ix[:, 0].max() + padding\n",
    "            y_min, y_max = X_train_bag.ix[:, 1].min() - padding, X_train_bag.ix[:, 1].max() + padding\n",
    "            xx, yy = np.meshgrid(np.arange(x_min, x_max, resolution),\n",
    "                                 np.arange(y_min, y_max, resolution))\n",
    "\n",
    "            # Plot Boundaries\n",
    "            plt.xlim(xx.min(), xx.max())\n",
    "            plt.ylim(yy.min(), yy.max())\n",
    "\n",
    "            # Prepare the contour\n",
    "            Z = model.predict(np.c_[xx.ravel(), yy.ravel()])\n",
    "            Z = Z.reshape(xx.shape)\n",
    "            plt.contourf(xx, yy, Z, cmap=my_cmap, alpha=0.8)\n",
    "            plt.scatter(X_train_bag.ix[:, 0], X_train_bag.ix[:, 1], c=colors, alpha=0.5)\n",
    "\n",
    "\n",
    "            score = round(model.score(X_test_bag, y_test) * 100, 3)\n",
    "            plt.text(0.5, 0, \"Score: {0}\".format(score), transform = ax.transAxes, horizontalalignment='center', fontsize=8)\n",
    "            max_2d_score = score if score > max_2d_score else max_2d_score\n",
    "\n",
    "            cnt += 1\n",
    "\n",
    "    print(\"Max 2D Score: \", max_2d_score)"
   ]
  },
  {
   "cell_type": "code",
   "execution_count": 10,
   "metadata": {},
   "outputs": [],
   "source": [
    "from sklearn.svm import SVC\n",
    "\n",
    "def benchmark(model, X_train, X_test, y_train, y_test, wintitle='Figure 1'):\n",
    "    print(wintitle + ' Results')\n",
    "    s = time.time()\n",
    "    \n",
    "    for i in range(iterations):\n",
    "        # TODO: train the classifier on the training data / labels:\n",
    "        m = model.fit(X_train, y_train)\n",
    "        \n",
    "    print(\"{0} Iterations Training Time: \".format(iterations), time.time() - s)\n",
    "\n",
    "\n",
    "    s = time.time()\n",
    "    for i in range(iterations):\n",
    "        # TODO: score the classifier on the testing data / labels:\n",
    "        score = model.score(X_test, y_test)\n",
    "        # .. your code here ..\n",
    "        \n",
    "    print(\"{0} Iterations Scoring Time: \".format(iterations), time.time() - s)\n",
    "    print(\"High-Dimensionality Score: \", round((score*100), 3))"
   ]
  },
  {
   "cell_type": "markdown",
   "metadata": {},
   "source": [
    "### The Assignment"
   ]
  },
  {
   "cell_type": "markdown",
   "metadata": {},
   "source": [
    "Load up the wheat dataset into dataframe `X` and verify you did it properly. Indices shouldn't be doubled, nor should you have any headers with weird characters..."
   ]
  },
  {
   "cell_type": "code",
   "execution_count": 11,
   "metadata": {},
   "outputs": [
    {
     "name": "stdout",
     "output_type": "stream",
     "text": [
      "      area  perimeter  compactness  length  width  asymmetry  groove  \\\n",
      "id                                                                     \n",
      "0    15.26      14.84       0.8710   5.763  3.312     2.2210   5.220   \n",
      "1    14.88      14.57       0.8811   5.554  3.333     1.0180   4.956   \n",
      "2    14.29      14.09       0.9050   5.291  3.337     2.6990   4.825   \n",
      "3    13.84      13.94       0.8955   5.324  3.379     2.2590   4.805   \n",
      "4    16.14      14.99       0.9034   5.658  3.562     1.3550   5.175   \n",
      "5    14.38      14.21       0.8951   5.386  3.312     2.4620   4.956   \n",
      "6    14.69      14.49       0.8799   5.563  3.259     3.5860   5.219   \n",
      "7    14.11      14.10       0.8911   5.420  3.302     2.7000     NaN   \n",
      "8    16.63      15.46       0.8747   6.053  3.465     2.0400   5.877   \n",
      "9    16.44      15.25       0.8880   5.884  3.505     1.9690   5.533   \n",
      "10   15.26      14.85       0.8696   5.714  3.242     4.5430   5.314   \n",
      "11   14.03      14.16       0.8796   5.438  3.201     1.7170   5.001   \n",
      "12   13.89      14.02       0.8880   5.439  3.199     3.9860   4.738   \n",
      "13   13.78      14.06       0.8759   5.479  3.156     3.1360   4.872   \n",
      "14   13.74      14.05       0.8744   5.482  3.114     2.9320   4.825   \n",
      "15   14.59      14.28       0.8993   5.351  3.333     4.1850   4.781   \n",
      "16   13.99      13.83       0.9183   5.119  3.383     5.2340   4.781   \n",
      "17   15.69      14.75       0.9058   5.527  3.514     1.5990   5.046   \n",
      "18   14.70      14.21       0.9153   5.205  3.466     1.7670   4.649   \n",
      "19   12.72      13.57       0.8686   5.226  3.049     4.1020   4.914   \n",
      "20   14.16      14.40       0.8584   5.658  3.129     3.0720   5.176   \n",
      "21   14.11      14.26       0.8722   5.520  3.168     2.6880   5.219   \n",
      "22   15.88      14.90       0.8988   5.618  3.507     0.7651   5.091   \n",
      "23   12.08      13.23       0.8664   5.099  2.936     1.4150   4.961   \n",
      "24   15.01      14.76       0.8657   5.789  3.245     1.7910   5.001   \n",
      "25   16.19      15.16       0.8849   5.833  3.421     0.9030   5.307   \n",
      "26   13.02      13.76       0.8641   5.395  3.026     3.3730   4.825   \n",
      "27   12.74      13.67       0.8564   5.395  2.956     2.5040   4.869   \n",
      "28   14.11      14.18       0.8820   5.541  3.221     2.7540   5.038   \n",
      "29   13.45      14.02       0.8604   5.516  3.065     3.5310   5.097   \n",
      "..     ...        ...          ...     ...    ...        ...     ...   \n",
      "180  11.41      12.95       0.8560   5.090  2.775     4.9570   4.825   \n",
      "181  12.46      13.41       0.8706   5.236  3.017     4.9870   5.147   \n",
      "182  12.19      13.36       0.8579   5.240  2.909     4.8570   5.158   \n",
      "183  11.65      13.07       0.8575   5.108  2.850     5.2090   5.135   \n",
      "184  12.89      13.77       0.8541   5.495  3.026     6.1850   5.316   \n",
      "185  11.56      13.31       0.8198   5.363  2.683     4.0620   5.182   \n",
      "186  11.81      13.45       0.8198   5.413  2.716     4.8980   5.352   \n",
      "187  10.91      12.80       0.8372   5.088  2.675     4.1790   4.956   \n",
      "188  11.23      12.82       0.8594   5.089  2.821     7.5240   4.957   \n",
      "189  10.59      12.41       0.8648   4.899  2.787     4.9750   4.794   \n",
      "190  10.93      12.80       0.8390   5.046  2.717     5.3980   5.045   \n",
      "191  11.27      12.86       0.8563   5.091  2.804     3.9850   5.001   \n",
      "192  11.87      13.02       0.8795   5.132  2.953     3.5970   5.132   \n",
      "193  10.82      12.83       0.8256   5.180  2.630     4.8530   5.089   \n",
      "194  12.11      13.27       0.8639   5.236  2.975     4.1320   5.012   \n",
      "195  12.80      13.47       0.8860   5.160  3.126     4.8730   4.914   \n",
      "196  12.79      13.53       0.8786   5.224  3.054     5.4830   4.958   \n",
      "197  13.37      13.78       0.8849   5.320  3.128     4.6700   5.091   \n",
      "198  12.62      13.67       0.8481   5.410  2.911     3.3060   5.231   \n",
      "199  12.76      13.38       0.8964   5.073  3.155     2.8280   4.830   \n",
      "200  12.38      13.44       0.8609   5.219  2.989     5.4720   5.045   \n",
      "201  12.67      13.32       0.8977   4.984  3.135     2.3000     NaN   \n",
      "202  11.18      12.72       0.8680   5.009  2.810     4.0510   4.828   \n",
      "203  12.70      13.41       0.8874   5.183  3.091     8.4560   5.000   \n",
      "204  12.37      13.47       0.8567   5.204  2.960     3.9190   5.001   \n",
      "205  12.19      13.20       0.8783   5.137  2.981     3.6310   4.870   \n",
      "206  11.23      12.88       0.8511   5.140  2.795     4.3250   5.003   \n",
      "207  13.20      13.66       0.8883   5.236  3.232     8.3150   5.056   \n",
      "208  11.84      13.21       0.8521   5.175  2.836     3.5980   5.044   \n",
      "209  12.30      13.34       0.8684   5.243  2.974     5.6370   5.063   \n",
      "\n",
      "    wheat_type  \n",
      "id              \n",
      "0         kama  \n",
      "1         kama  \n",
      "2         kama  \n",
      "3         kama  \n",
      "4         kama  \n",
      "5         kama  \n",
      "6         kama  \n",
      "7     canadian  \n",
      "8         kama  \n",
      "9         kama  \n",
      "10        kama  \n",
      "11        kama  \n",
      "12        kama  \n",
      "13        kama  \n",
      "14        kama  \n",
      "15        kama  \n",
      "16        kama  \n",
      "17        kama  \n",
      "18        kama  \n",
      "19        kama  \n",
      "20        kama  \n",
      "21        kama  \n",
      "22        kama  \n",
      "23        kama  \n",
      "24        kama  \n",
      "25        kama  \n",
      "26        kama  \n",
      "27        kama  \n",
      "28        kama  \n",
      "29        kama  \n",
      "..         ...  \n",
      "180   canadian  \n",
      "181   canadian  \n",
      "182   canadian  \n",
      "183   canadian  \n",
      "184   canadian  \n",
      "185   canadian  \n",
      "186   canadian  \n",
      "187   canadian  \n",
      "188   canadian  \n",
      "189   canadian  \n",
      "190   canadian  \n",
      "191   canadian  \n",
      "192   canadian  \n",
      "193   canadian  \n",
      "194   canadian  \n",
      "195   canadian  \n",
      "196   canadian  \n",
      "197   canadian  \n",
      "198   canadian  \n",
      "199   canadian  \n",
      "200   canadian  \n",
      "201   canadian  \n",
      "202   canadian  \n",
      "203   canadian  \n",
      "204   canadian  \n",
      "205   canadian  \n",
      "206   canadian  \n",
      "207   canadian  \n",
      "208   canadian  \n",
      "209   canadian  \n",
      "\n",
      "[210 rows x 8 columns]\n"
     ]
    }
   ],
   "source": [
    "X = pd.read_csv('Datasets/wheat.data', index_col = 0)\n",
    "print(X)"
   ]
  },
  {
   "cell_type": "code",
   "execution_count": 12,
   "metadata": {},
   "outputs": [
    {
     "data": {
      "text/html": [
       "<div>\n",
       "<style>\n",
       "    .dataframe thead tr:only-child th {\n",
       "        text-align: right;\n",
       "    }\n",
       "\n",
       "    .dataframe thead th {\n",
       "        text-align: left;\n",
       "    }\n",
       "\n",
       "    .dataframe tbody tr th {\n",
       "        vertical-align: top;\n",
       "    }\n",
       "</style>\n",
       "<table border=\"1\" class=\"dataframe\">\n",
       "  <thead>\n",
       "    <tr style=\"text-align: right;\">\n",
       "      <th></th>\n",
       "      <th>area</th>\n",
       "      <th>perimeter</th>\n",
       "      <th>compactness</th>\n",
       "      <th>length</th>\n",
       "      <th>width</th>\n",
       "      <th>asymmetry</th>\n",
       "      <th>groove</th>\n",
       "      <th>wheat_type</th>\n",
       "    </tr>\n",
       "    <tr>\n",
       "      <th>id</th>\n",
       "      <th></th>\n",
       "      <th></th>\n",
       "      <th></th>\n",
       "      <th></th>\n",
       "      <th></th>\n",
       "      <th></th>\n",
       "      <th></th>\n",
       "      <th></th>\n",
       "    </tr>\n",
       "  </thead>\n",
       "  <tbody>\n",
       "    <tr>\n",
       "      <th>7</th>\n",
       "      <td>14.11</td>\n",
       "      <td>14.10</td>\n",
       "      <td>0.8911</td>\n",
       "      <td>5.4200</td>\n",
       "      <td>3.302</td>\n",
       "      <td>2.700</td>\n",
       "      <td>NaN</td>\n",
       "      <td>canadian</td>\n",
       "    </tr>\n",
       "    <tr>\n",
       "      <th>35</th>\n",
       "      <td>16.12</td>\n",
       "      <td>15.00</td>\n",
       "      <td>NaN</td>\n",
       "      <td>0.9000</td>\n",
       "      <td>NaN</td>\n",
       "      <td>5.709</td>\n",
       "      <td>3.485</td>\n",
       "      <td>canadian</td>\n",
       "    </tr>\n",
       "    <tr>\n",
       "      <th>60</th>\n",
       "      <td>11.42</td>\n",
       "      <td>12.86</td>\n",
       "      <td>0.8683</td>\n",
       "      <td>5.0080</td>\n",
       "      <td>2.850</td>\n",
       "      <td>2.700</td>\n",
       "      <td>NaN</td>\n",
       "      <td>canadian</td>\n",
       "    </tr>\n",
       "    <tr>\n",
       "      <th>135</th>\n",
       "      <td>15.38</td>\n",
       "      <td>14.66</td>\n",
       "      <td>0.8990</td>\n",
       "      <td>5.4770</td>\n",
       "      <td>3.465</td>\n",
       "      <td>3.600</td>\n",
       "      <td>NaN</td>\n",
       "      <td>canadian</td>\n",
       "    </tr>\n",
       "    <tr>\n",
       "      <th>169</th>\n",
       "      <td>11.24</td>\n",
       "      <td>13.00</td>\n",
       "      <td>NaN</td>\n",
       "      <td>0.8359</td>\n",
       "      <td>5.090</td>\n",
       "      <td>2.715</td>\n",
       "      <td>3.521</td>\n",
       "      <td>canadian</td>\n",
       "    </tr>\n",
       "    <tr>\n",
       "      <th>170</th>\n",
       "      <td>11.02</td>\n",
       "      <td>13.00</td>\n",
       "      <td>NaN</td>\n",
       "      <td>0.8189</td>\n",
       "      <td>5.325</td>\n",
       "      <td>2.701</td>\n",
       "      <td>6.735</td>\n",
       "      <td>canadian</td>\n",
       "    </tr>\n",
       "    <tr>\n",
       "      <th>201</th>\n",
       "      <td>12.67</td>\n",
       "      <td>13.32</td>\n",
       "      <td>0.8977</td>\n",
       "      <td>4.9840</td>\n",
       "      <td>3.135</td>\n",
       "      <td>2.300</td>\n",
       "      <td>NaN</td>\n",
       "      <td>canadian</td>\n",
       "    </tr>\n",
       "  </tbody>\n",
       "</table>\n",
       "</div>"
      ],
      "text/plain": [
       "      area  perimeter  compactness  length  width  asymmetry  groove  \\\n",
       "id                                                                     \n",
       "7    14.11      14.10       0.8911  5.4200  3.302      2.700     NaN   \n",
       "35   16.12      15.00          NaN  0.9000    NaN      5.709   3.485   \n",
       "60   11.42      12.86       0.8683  5.0080  2.850      2.700     NaN   \n",
       "135  15.38      14.66       0.8990  5.4770  3.465      3.600     NaN   \n",
       "169  11.24      13.00          NaN  0.8359  5.090      2.715   3.521   \n",
       "170  11.02      13.00          NaN  0.8189  5.325      2.701   6.735   \n",
       "201  12.67      13.32       0.8977  4.9840  3.135      2.300     NaN   \n",
       "\n",
       "    wheat_type  \n",
       "id              \n",
       "7     canadian  \n",
       "35    canadian  \n",
       "60    canadian  \n",
       "135   canadian  \n",
       "169   canadian  \n",
       "170   canadian  \n",
       "201   canadian  "
      ]
     },
     "execution_count": 12,
     "metadata": {},
     "output_type": "execute_result"
    }
   ],
   "source": [
    "# An easy way to show which rows have nans in them:\n",
    "X[pd.isnull(X).any(axis=1)]"
   ]
  },
  {
   "cell_type": "markdown",
   "metadata": {},
   "source": [
    "Go ahead and drop any row with a nan:"
   ]
  },
  {
   "cell_type": "code",
   "execution_count": 13,
   "metadata": {},
   "outputs": [],
   "source": [
    "X.dropna(axis=0, inplace=True)"
   ]
  },
  {
   "cell_type": "markdown",
   "metadata": {},
   "source": [
    "In the future, you might try setting the nan values to the mean value of that column, the mean should only be calculated for the specific class rather than across all classes, now that you have the labels."
   ]
  },
  {
   "cell_type": "markdown",
   "metadata": {},
   "source": [
    "Copy the labels out of the dataframe into variable `y`, then remove them from `X`.\n",
    "\n",
    "Encode the labels, using the `.map()` trick we showed you in Module 5, such that `canadian:0`, `kama:1`, and `rosa:2`."
   ]
  },
  {
   "cell_type": "code",
   "execution_count": 14,
   "metadata": {},
   "outputs": [
    {
     "name": "stdout",
     "output_type": "stream",
     "text": [
      "      area  perimeter  compactness  length  width  asymmetry  groove\n",
      "id                                                                  \n",
      "0    15.26      14.84       0.8710   5.763  3.312     2.2210   5.220\n",
      "1    14.88      14.57       0.8811   5.554  3.333     1.0180   4.956\n",
      "2    14.29      14.09       0.9050   5.291  3.337     2.6990   4.825\n",
      "3    13.84      13.94       0.8955   5.324  3.379     2.2590   4.805\n",
      "4    16.14      14.99       0.9034   5.658  3.562     1.3550   5.175\n",
      "5    14.38      14.21       0.8951   5.386  3.312     2.4620   4.956\n",
      "6    14.69      14.49       0.8799   5.563  3.259     3.5860   5.219\n",
      "8    16.63      15.46       0.8747   6.053  3.465     2.0400   5.877\n",
      "9    16.44      15.25       0.8880   5.884  3.505     1.9690   5.533\n",
      "10   15.26      14.85       0.8696   5.714  3.242     4.5430   5.314\n",
      "11   14.03      14.16       0.8796   5.438  3.201     1.7170   5.001\n",
      "12   13.89      14.02       0.8880   5.439  3.199     3.9860   4.738\n",
      "13   13.78      14.06       0.8759   5.479  3.156     3.1360   4.872\n",
      "14   13.74      14.05       0.8744   5.482  3.114     2.9320   4.825\n",
      "15   14.59      14.28       0.8993   5.351  3.333     4.1850   4.781\n",
      "16   13.99      13.83       0.9183   5.119  3.383     5.2340   4.781\n",
      "17   15.69      14.75       0.9058   5.527  3.514     1.5990   5.046\n",
      "18   14.70      14.21       0.9153   5.205  3.466     1.7670   4.649\n",
      "19   12.72      13.57       0.8686   5.226  3.049     4.1020   4.914\n",
      "20   14.16      14.40       0.8584   5.658  3.129     3.0720   5.176\n",
      "21   14.11      14.26       0.8722   5.520  3.168     2.6880   5.219\n",
      "22   15.88      14.90       0.8988   5.618  3.507     0.7651   5.091\n",
      "23   12.08      13.23       0.8664   5.099  2.936     1.4150   4.961\n",
      "24   15.01      14.76       0.8657   5.789  3.245     1.7910   5.001\n",
      "25   16.19      15.16       0.8849   5.833  3.421     0.9030   5.307\n",
      "26   13.02      13.76       0.8641   5.395  3.026     3.3730   4.825\n",
      "27   12.74      13.67       0.8564   5.395  2.956     2.5040   4.869\n",
      "28   14.11      14.18       0.8820   5.541  3.221     2.7540   5.038\n",
      "29   13.45      14.02       0.8604   5.516  3.065     3.5310   5.097\n",
      "30   13.16      13.82       0.8662   5.454  2.975     0.8551   5.056\n",
      "..     ...        ...          ...     ...    ...        ...     ...\n",
      "179  12.21      13.47       0.8453   5.357  2.893     1.6610   5.178\n",
      "180  11.41      12.95       0.8560   5.090  2.775     4.9570   4.825\n",
      "181  12.46      13.41       0.8706   5.236  3.017     4.9870   5.147\n",
      "182  12.19      13.36       0.8579   5.240  2.909     4.8570   5.158\n",
      "183  11.65      13.07       0.8575   5.108  2.850     5.2090   5.135\n",
      "184  12.89      13.77       0.8541   5.495  3.026     6.1850   5.316\n",
      "185  11.56      13.31       0.8198   5.363  2.683     4.0620   5.182\n",
      "186  11.81      13.45       0.8198   5.413  2.716     4.8980   5.352\n",
      "187  10.91      12.80       0.8372   5.088  2.675     4.1790   4.956\n",
      "188  11.23      12.82       0.8594   5.089  2.821     7.5240   4.957\n",
      "189  10.59      12.41       0.8648   4.899  2.787     4.9750   4.794\n",
      "190  10.93      12.80       0.8390   5.046  2.717     5.3980   5.045\n",
      "191  11.27      12.86       0.8563   5.091  2.804     3.9850   5.001\n",
      "192  11.87      13.02       0.8795   5.132  2.953     3.5970   5.132\n",
      "193  10.82      12.83       0.8256   5.180  2.630     4.8530   5.089\n",
      "194  12.11      13.27       0.8639   5.236  2.975     4.1320   5.012\n",
      "195  12.80      13.47       0.8860   5.160  3.126     4.8730   4.914\n",
      "196  12.79      13.53       0.8786   5.224  3.054     5.4830   4.958\n",
      "197  13.37      13.78       0.8849   5.320  3.128     4.6700   5.091\n",
      "198  12.62      13.67       0.8481   5.410  2.911     3.3060   5.231\n",
      "199  12.76      13.38       0.8964   5.073  3.155     2.8280   4.830\n",
      "200  12.38      13.44       0.8609   5.219  2.989     5.4720   5.045\n",
      "202  11.18      12.72       0.8680   5.009  2.810     4.0510   4.828\n",
      "203  12.70      13.41       0.8874   5.183  3.091     8.4560   5.000\n",
      "204  12.37      13.47       0.8567   5.204  2.960     3.9190   5.001\n",
      "205  12.19      13.20       0.8783   5.137  2.981     3.6310   4.870\n",
      "206  11.23      12.88       0.8511   5.140  2.795     4.3250   5.003\n",
      "207  13.20      13.66       0.8883   5.236  3.232     8.3150   5.056\n",
      "208  11.84      13.21       0.8521   5.175  2.836     3.5980   5.044\n",
      "209  12.30      13.34       0.8684   5.243  2.974     5.6370   5.063\n",
      "\n",
      "[203 rows x 7 columns]\n",
      "id\n",
      "0      1\n",
      "1      1\n",
      "2      1\n",
      "3      1\n",
      "4      1\n",
      "5      1\n",
      "6      1\n",
      "8      1\n",
      "9      1\n",
      "10     1\n",
      "11     1\n",
      "12     1\n",
      "13     1\n",
      "14     1\n",
      "15     1\n",
      "16     1\n",
      "17     1\n",
      "18     1\n",
      "19     1\n",
      "20     1\n",
      "21     1\n",
      "22     1\n",
      "23     1\n",
      "24     1\n",
      "25     1\n",
      "26     1\n",
      "27     1\n",
      "28     1\n",
      "29     1\n",
      "30     1\n",
      "      ..\n",
      "179    0\n",
      "180    0\n",
      "181    0\n",
      "182    0\n",
      "183    0\n",
      "184    0\n",
      "185    0\n",
      "186    0\n",
      "187    0\n",
      "188    0\n",
      "189    0\n",
      "190    0\n",
      "191    0\n",
      "192    0\n",
      "193    0\n",
      "194    0\n",
      "195    0\n",
      "196    0\n",
      "197    0\n",
      "198    0\n",
      "199    0\n",
      "200    0\n",
      "202    0\n",
      "203    0\n",
      "204    0\n",
      "205    0\n",
      "206    0\n",
      "207    0\n",
      "208    0\n",
      "209    0\n",
      "Name: wheat_type, Length: 203, dtype: int64\n"
     ]
    }
   ],
   "source": [
    "y = X.wheat_type\n",
    "X.drop('wheat_type', axis = 1, inplace = True)\n",
    "y = y.map({'canadian': 0, 'kama': 1, 'rosa': 2})\n",
    "print(X)\n",
    "print(y)"
   ]
  },
  {
   "cell_type": "markdown",
   "metadata": {},
   "source": [
    "Split your data into a `test` and `train` set. Your `test` size should be 30% with `random_state` 7. Please use variable names: `X_train`, `X_test`, `y_train`, and `y_test`:"
   ]
  },
  {
   "cell_type": "code",
   "execution_count": 16,
   "metadata": {},
   "outputs": [],
   "source": [
    "from sklearn.model_selection import train_test_split\n",
    "\n",
    "X_train, X_test, y_train, y_test = train_test_split(X, y, test_size = .3, random_state = 7)"
   ]
  },
  {
   "cell_type": "markdown",
   "metadata": {},
   "source": [
    "Create an SVC classifier named `svc` and use a linear kernel. You already have `C` defined at the top of the lab, so just set `C=C`."
   ]
  },
  {
   "cell_type": "code",
   "execution_count": 18,
   "metadata": {},
   "outputs": [],
   "source": [
    "from sklearn.svm import SVC\n",
    "svc = SVC(kernel='linear', C=C)"
   ]
  },
  {
   "cell_type": "markdown",
   "metadata": {},
   "source": [
    "Create an KNeighbors classifier named `knn` and set the neighbor count to `5`:"
   ]
  },
  {
   "cell_type": "code",
   "execution_count": 19,
   "metadata": {},
   "outputs": [],
   "source": [
    "from sklearn.neighbors import KNeighborsClassifier\n",
    "knn = KNeighborsClassifier(n_neighbors = 5)"
   ]
  },
  {
   "cell_type": "markdown",
   "metadata": {},
   "source": [
    "### Fire it Up:"
   ]
  },
  {
   "cell_type": "code",
   "execution_count": 38,
   "metadata": {},
   "outputs": [
    {
     "name": "stdout",
     "output_type": "stream",
     "text": [
      "KNeighbors Results\n",
      "200000 Iterations Training Time:  58.61800241470337\n",
      "200000 Iterations Scoring Time:  130.5177788734436\n",
      "High-Dimensionality Score:  83.607\n"
     ]
    },
    {
     "name": "stderr",
     "output_type": "stream",
     "text": [
      "c:\\python36\\lib\\site-packages\\ipykernel_launcher.py:47: DeprecationWarning: \n",
      ".ix is deprecated. Please use\n",
      ".loc for label based indexing or\n",
      ".iloc for positional indexing\n",
      "\n",
      "See the documentation here:\n",
      "http://pandas.pydata.org/pandas-docs/stable/indexing.html#deprecate_ix\n"
     ]
    },
    {
     "name": "stdout",
     "output_type": "stream",
     "text": [
      "Max 2D Score:  90.164\n"
     ]
    }
   ],
   "source": [
    "benchmark(knn, X_train, X_test, y_train, y_test, 'KNeighbors')\n",
    "drawPlots(knn, X_train, X_test, y_train, y_test, 'KNeighbors')"
   ]
  },
  {
   "cell_type": "code",
   "execution_count": 39,
   "metadata": {},
   "outputs": [
    {
     "name": "stdout",
     "output_type": "stream",
     "text": [
      "SVC Results\n",
      "200000 Iterations Training Time:  118.52614831924438\n",
      "200000 Iterations Scoring Time:  47.58659863471985\n",
      "High-Dimensionality Score:  86.885\n"
     ]
    },
    {
     "name": "stderr",
     "output_type": "stream",
     "text": [
      "c:\\python36\\lib\\site-packages\\ipykernel_launcher.py:47: DeprecationWarning: \n",
      ".ix is deprecated. Please use\n",
      ".loc for label based indexing or\n",
      ".iloc for positional indexing\n",
      "\n",
      "See the documentation here:\n",
      "http://pandas.pydata.org/pandas-docs/stable/indexing.html#deprecate_ix\n"
     ]
    },
    {
     "name": "stdout",
     "output_type": "stream",
     "text": [
      "Max 2D Score:  93.443\n"
     ]
    }
   ],
   "source": [
    "benchmark(svc, X_train, X_test, y_train, y_test, 'SVC')\n",
    "drawPlots(svc, X_train, X_test, y_train, y_test, 'SVC')"
   ]
  },
  {
   "cell_type": "code",
   "execution_count": 36,
   "metadata": {},
   "outputs": [
    {
     "data": {
      "image/png": "[encoded data removed]",
      "text/plain": [
       "<matplotlib.figure.Figure at 0x195eec1fb38>"
      ]
     },
     "metadata": {},
     "output_type": "display_data"
    },
    {
     "data": {
      "image/png": "[encoded data removed]",
      "text/plain": [
       "<matplotlib.figure.Figure at 0x195f173a2e8>"
      ]
     },
     "metadata": {},
     "output_type": "display_data"
    }
   ],
   "source": [
    "plt.show()"
   ]
  },
  {
   "cell_type": "markdown",
   "metadata": {},
   "source": [
    "### Bonus:"
   ]
  },
  {
   "cell_type": "markdown",
   "metadata": {},
   "source": [
    "After submitting your answers, mess around with the gamma, kernel, and C values."
   ]
  },
  {
   "cell_type": "code",
   "execution_count": null,
   "metadata": {
    "collapsed": true
   },
   "outputs": [],
   "source": []
  }
 ],
 "metadata": {
  "anaconda-cloud": {},
  "kernelspec": {
   "display_name": "Python 3",
   "language": "python",
   "name": "python3"
  },
  "language_info": {
   "codemirror_mode": {
    "name": "ipython",
    "version": 3
   },
   "file_extension": ".py",
   "mimetype": "text/x-python",
   "name": "python",
   "nbconvert_exporter": "python",
   "pygments_lexer": "ipython3",
   "version": "3.6.1"
  },
  "toc": {
   "colors": {
    "hover_highlight": "#DAA520",
    "running_highlight": "#FF0000",
    "selected_highlight": "#FFD700"
   },
   "moveMenuLeft": true,
   "nav_menu": {
    "height": "58px",
    "width": "252px"
   },
   "navigate_menu": true,
   "number_sections": true,
   "sideBar": true,
   "threshold": 4,
   "toc_cell": false,
   "toc_section_display": "block",
   "toc_window_display": false,
   "widenNotebook": false
  }
 },
 "nbformat": 4,
 "nbformat_minor": 2
}
